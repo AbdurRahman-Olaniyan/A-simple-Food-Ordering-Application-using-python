{
 "cells": [
  {
   "cell_type": "markdown",
   "id": "e2c801c7-6230-4b12-b534-50fcf8330857",
   "metadata": {},
   "source": [
    "# Food Ordering Application\n",
    "A food vendor has approached you build a simple app to help theirs users order food. \n",
    "The vendor sells the following food items\n",
    "* Pizza at 6500 Naira\n",
    "* Burger at 3000 Naira\n",
    "* Noodles at 1300 Naira\n",
    "\n",
    "Users can order multiple items in different quantities, the code, written with functions to accurately capture a users order and display a receipt to the user."
   ]
  },
  {
   "cell_type": "code",
   "execution_count": 5,
   "id": "1e426cd5-c2ee-4ba8-88cf-e1de5dd33a54",
   "metadata": {},
   "outputs": [],
   "source": [
    "def display_menu():\n",
    "    \"\"\"\n",
    "    Description: Prints the menu options for the food items available in the ordering app.\n",
    "                 since the app only has 3 food items you can order we add a fourth option to exit\n",
    "                 the menu when they are done ordering.\n",
    "    \"\"\"\n",
    "    print(\"Menu:\")\n",
    "    print(\"1. Pizza - 6500\")\n",
    "    print(\"2. Burger - 3000\")\n",
    "    print(\"3. Noodles - 1300\")\n",
    "    print(\"4. Exit Menu\")"
   ]
  },
  {
   "cell_type": "code",
   "execution_count": 23,
   "id": "95941f59-fbd1-40f1-af5c-30de268401a9",
   "metadata": {},
   "outputs": [
    {
     "name": "stdout",
     "output_type": "stream",
     "text": [
      "Menu:\n",
      "1. Pizza - 6500\n",
      "2. Burger - 3000\n",
      "3. Noodles - 1300\n",
      "4. Exit Menu\n"
     ]
    }
   ],
   "source": [
    "display_menu()"
   ]
  },
  {
   "cell_type": "code",
   "execution_count": 25,
   "id": "751b3fa5-da76-4475-9461-44d612eb2f14",
   "metadata": {},
   "outputs": [],
   "source": [
    "def get_user_choice():\n",
    "    \"\"\"\n",
    "    Description: Takes user input to get the number corresponding to the chosen food item from the menu.\n",
    "                 Ensures the input is a valid choice between 1 and 4.\n",
    "                 \n",
    "                 If the input is not an integer return the error \n",
    "                 'Invalid input. Please enter a valid number.' \n",
    "                 \n",
    "                 If the input is an integer but not between 1 and 4 return the error\n",
    "                 'Invalid choice. Please enter a number between 1 and 4.' \n",
    "    \"\"\"\n",
    "    ### BEGIN SOLUTION\n",
    "    while True:\n",
    "        try:\n",
    "            choice = int(input(\"Enter the number of the item you want to order: \"))\n",
    "            if 1 <= choice <= 3:\n",
    "                return choice\n",
    "            elif choice == 4:\n",
    "                return None\n",
    "            else:\n",
    "                print(\"Invalid choice. Please enter a number between 1 and 4.\")\n",
    "        except ValueError:\n",
    "            print(\"Invalid input. Please enter a valid number.\")\n",
    "    ### END SOLUTION"
   ]
  },
  {
   "cell_type": "code",
   "execution_count": 27,
   "id": "71871c88-c9c4-4501-a784-d225f78ed756",
   "metadata": {},
   "outputs": [
    {
     "name": "stdout",
     "output_type": "stream",
     "text": [
      "Enter the number of the item you want to order:  5\n"
     ]
    },
    {
     "name": "stdout",
     "output_type": "stream",
     "text": [
      "Invalid choice. Please enter a number between 1 and 4.\n"
     ]
    },
    {
     "name": "stdout",
     "output_type": "stream",
     "text": [
      "Enter the number of the item you want to order:  Pizza\n"
     ]
    },
    {
     "name": "stdout",
     "output_type": "stream",
     "text": [
      "Invalid input. Please enter a valid number.\n"
     ]
    },
    {
     "name": "stdout",
     "output_type": "stream",
     "text": [
      "Enter the number of the item you want to order:  1\n"
     ]
    },
    {
     "data": {
      "text/plain": [
       "1"
      ]
     },
     "execution_count": 27,
     "metadata": {},
     "output_type": "execute_result"
    }
   ],
   "source": [
    "get_user_choice()"
   ]
  },
  {
   "cell_type": "code",
   "execution_count": 9,
   "id": "c92909f6-736b-4978-af90-a99f0149b6f3",
   "metadata": {},
   "outputs": [],
   "source": [
    "def get_quantity():\n",
    "    \"\"\"\n",
    "    Description: Takes user input to get the quantity of the selected food item.\n",
    "                 and ensures the input is a positive integer.\n",
    "\n",
    "                 If the input is not an integer return the error \n",
    "                 'Invalid input. Please enter a valid number.' \n",
    "                 \n",
    "                 If the input is a negative integer or zero return the error\n",
    "                 'Quantity must be greater than 0.'\n",
    "    \"\"\"\n",
    "    ### BEGIN SOLUTION\n",
    "    while True:\n",
    "        try:\n",
    "            quantity = int(input(\"Enter the quantity: \"))\n",
    "            if quantity > 0:\n",
    "                return quantity\n",
    "            else:\n",
    "                print(\"Quantity must be greater than 0.\")\n",
    "        except ValueError:\n",
    "            print(\"Invalid input. Please enter a valid number.\")\n",
    "    ### END SOLUTION"
   ]
  },
  {
   "cell_type": "code",
   "execution_count": 29,
   "id": "fd713dc3-acac-4111-b132-08d59a31463f",
   "metadata": {},
   "outputs": [
    {
     "name": "stdout",
     "output_type": "stream",
     "text": [
      "Enter the quantity:  0\n"
     ]
    },
    {
     "name": "stdout",
     "output_type": "stream",
     "text": [
      "Quantity must be greater than 0.\n"
     ]
    },
    {
     "name": "stdout",
     "output_type": "stream",
     "text": [
      "Enter the quantity:  Pizza 2\n"
     ]
    },
    {
     "name": "stdout",
     "output_type": "stream",
     "text": [
      "Invalid input. Please enter a valid number.\n"
     ]
    },
    {
     "name": "stdout",
     "output_type": "stream",
     "text": [
      "Enter the quantity:  4\n"
     ]
    },
    {
     "data": {
      "text/plain": [
       "4"
      ]
     },
     "execution_count": 29,
     "metadata": {},
     "output_type": "execute_result"
    }
   ],
   "source": [
    "get_quantity()"
   ]
  },
  {
   "cell_type": "code",
   "execution_count": 11,
   "id": "a14b7f17-1407-4fd0-82ab-927354bbffa5",
   "metadata": {},
   "outputs": [],
   "source": [
    "def get_item_price(choice):\n",
    "    \"\"\"\n",
    "    Description: Retrieves and returns the price of a food item based on \n",
    "    the user's choice number from the menu.\n",
    "    \"\"\"\n",
    "    ### BEGIN SOLUTION\n",
    "    # Assuming item prices based on the user's choice\n",
    "    prices = {1: 6500, 2: 3000, 3: 1300}\n",
    "    return prices.get(choice, 0)\n",
    "    ### END SOLUTION"
   ]
  },
  {
   "cell_type": "code",
   "execution_count": 35,
   "id": "aa6d586b-1779-409b-a310-ffd43e2f1854",
   "metadata": {},
   "outputs": [
    {
     "name": "stdout",
     "output_type": "stream",
     "text": [
      "Enter the number of the item you want to order:  1\n"
     ]
    },
    {
     "data": {
      "text/plain": [
       "6500"
      ]
     },
     "execution_count": 35,
     "metadata": {},
     "output_type": "execute_result"
    }
   ],
   "source": [
    "get_item_price(get_user_choice())"
   ]
  },
  {
   "cell_type": "code",
   "execution_count": 13,
   "id": "49821c62-06b4-429e-ad38-01a2fd76fffa",
   "metadata": {},
   "outputs": [],
   "source": [
    "def calculate_total_price(item_price, quantity):\n",
    "    \"\"\"\n",
    "    Description: Calculates and returns the total price of a specific food item \n",
    "    based on its price and the quantity ordered.\n",
    "    \"\"\"\n",
    "    ### BEGIN SOLUTION\n",
    "    return item_price * quantity\n",
    "    ### END SOLUTION"
   ]
  },
  {
   "cell_type": "code",
   "execution_count": 41,
   "id": "c2f560fb-cdcc-4dff-a81c-a517b4fe9fc1",
   "metadata": {},
   "outputs": [
    {
     "name": "stdout",
     "output_type": "stream",
     "text": [
      "Enter the number of the item you want to order:  1\n",
      "Enter the quantity:  4\n"
     ]
    },
    {
     "data": {
      "text/plain": [
       "26000"
      ]
     },
     "execution_count": 41,
     "metadata": {},
     "output_type": "execute_result"
    }
   ],
   "source": [
    "calculate_total_price(get_item_price(get_user_choice()), get_quantity())"
   ]
  },
  {
   "cell_type": "code",
   "execution_count": 58,
   "id": "d9fb2603-2aac-4c64-80f6-36392acc977f",
   "metadata": {},
   "outputs": [],
   "source": [
    "def get_item_name(choice):\n",
    "    menu = {\n",
    "        1: 'Pizza',\n",
    "        2: 'Burger',\n",
    "        3: 'Noodles',\n",
    "        4: 'Exit Menu'\n",
    "    }\n",
    "    return menu.get(choice)"
   ]
  },
  {
   "cell_type": "code",
   "execution_count": null,
   "id": "31d762ff-d265-481e-8ffc-7d75ccae2f25",
   "metadata": {},
   "outputs": [],
   "source": [
    "def place_order():\n",
    "    \"\"\"\n",
    "    Description: Manages the process of adding items to a shopping cart. \n",
    "                 USES A DICTIONARY FOR THE CART.\n",
    "                 Calls other functions to get user choices, quantities, and calculates total prices.\n",
    "\n",
    "                 The cart would look something like this assuming this user ordered 3 pizzas and 3 burgers.\n",
    "                 {\n",
    "                    'Pizza': {'quantity': 3, 'total_price': 19500},\n",
    "                    'Burger': {'quantity': 3, 'total_price': 9000}\n",
    "                 }\n",
    "    \"\"\"\n",
    "    ### BEGIN SOLUTION\n",
    "    cart = {}\n",
    "    while True:\n",
    "        display_menu()\n",
    "        choice = get_user_choice()\n",
    "        if choice is None:\n",
    "            break\n",
    "        quantity = get_quantity()\n",
    "        total_price = calculate_total_price(get_item_price(choice), quantity)\n",
    "        \n",
    "        item_name = get_item_name(choice)\n",
    "        \n",
    "        # Add the item to the cart\n",
    "        if item_name in cart.keys():\n",
    "            cart[item_name][\"quantity\"] += quantity\n",
    "            cart[item_name][\"total_price\"] += total_price\n",
    "        else:\n",
    "            cart[item_name] = {\"quantity\": quantity, \"total_price\": total_price}\n",
    "        \n",
    "        print(f\"{quantity} {item_name}(s) added to your cart. Total price: {total_price}\")\n",
    "    \n",
    "    return cart\n",
    "    ### END SOLUTION"
   ]
  },
  {
   "cell_type": "code",
   "execution_count": 62,
   "id": "851af5ca-6f70-4dd6-aa8a-6a7b883e726f",
   "metadata": {},
   "outputs": [
    {
     "name": "stdout",
     "output_type": "stream",
     "text": [
      "Menu:\n",
      "1. Pizza - 6500\n",
      "2. Burger - 3000\n",
      "3. Noodles - 1300\n",
      "4. Exit Menu\n"
     ]
    },
    {
     "name": "stdout",
     "output_type": "stream",
     "text": [
      "Enter the number of the item you want to order:  1\n",
      "Enter the quantity:  4\n"
     ]
    },
    {
     "name": "stdout",
     "output_type": "stream",
     "text": [
      "4 Pizza(s) added to your cart. Total price: 26000\n",
      "Menu:\n",
      "1. Pizza - 6500\n",
      "2. Burger - 3000\n",
      "3. Noodles - 1300\n",
      "4. Exit Menu\n"
     ]
    },
    {
     "name": "stdout",
     "output_type": "stream",
     "text": [
      "Enter the number of the item you want to order:  2\n",
      "Enter the quantity:  6\n"
     ]
    },
    {
     "name": "stdout",
     "output_type": "stream",
     "text": [
      "6 Burger(s) added to your cart. Total price: 18000\n",
      "Menu:\n",
      "1. Pizza - 6500\n",
      "2. Burger - 3000\n",
      "3. Noodles - 1300\n",
      "4. Exit Menu\n"
     ]
    },
    {
     "name": "stdout",
     "output_type": "stream",
     "text": [
      "Enter the number of the item you want to order:  3\n",
      "Enter the quantity:  7\n"
     ]
    },
    {
     "name": "stdout",
     "output_type": "stream",
     "text": [
      "7 Noodles(s) added to your cart. Total price: 9100\n",
      "Menu:\n",
      "1. Pizza - 6500\n",
      "2. Burger - 3000\n",
      "3. Noodles - 1300\n",
      "4. Exit Menu\n"
     ]
    },
    {
     "name": "stdout",
     "output_type": "stream",
     "text": [
      "Enter the number of the item you want to order:  4\n"
     ]
    },
    {
     "data": {
      "text/plain": [
       "{'Pizza': {'quantity': 4, 'total_price': 26000},\n",
       " 'Burger': {'quantity': 6, 'total_price': 18000},\n",
       " 'Noodles': {'quantity': 7, 'total_price': 9100}}"
      ]
     },
     "execution_count": 62,
     "metadata": {},
     "output_type": "execute_result"
    }
   ],
   "source": [
    "place_order()"
   ]
  },
  {
   "cell_type": "code",
   "execution_count": null,
   "id": "dce88975-d803-4fa4-a034-482cc79c061a",
   "metadata": {},
   "outputs": [],
   "source": [
    "def check_out(cart):\n",
    "    \"\"\"\n",
    "    Description: Finalizes the order by displaying the contents of the shopping cart, including quantities and total prices.\n",
    "                 Prints the total order price like a receipt.\n",
    "\n",
    "                 The reciept would look like this if the cart is empty\n",
    "                 \n",
    "                     Your cart is empty. No items to check out.\n",
    "\n",
    "\n",
    "                 If the Cart has items in it then the receipt would look exactly like this\n",
    "\n",
    "                     Checking out...\n",
    "                     Your order details:\n",
    "                     Item 1: Quantity - 2, Total Price - 2000\n",
    "                     Item 2: Quantity - 3, Total Price - 1500\n",
    "                     Total Order Price: 3500\n",
    "                     Thank you for ordering!\n",
    "    \"\"\"\n",
    "    ### BEGIN SOLUTION\n",
    "    print(\"Checking out...\")\n",
    "    if not cart:\n",
    "        print(\"Your cart is empty. No items to check out.\")\n",
    "    else:\n",
    "        print(\"Your order details:\")\n",
    "        for item, details in cart.items():\n",
    "            print(f\"{item}: Quantity - {details['quantity']}, Total Price - {details['total_price']}\")\n",
    "        total_order_price = sum(details['total_price'] for details in cart.values())\n",
    "        print(f\"Total Order Price: {total_order_price}\")\n",
    "        print(\"Thank you for ordering!\")\n",
    "    ### END SOLUTION"
   ]
  },
  {
   "cell_type": "code",
   "execution_count": 71,
   "id": "a5a8e5e1-2952-4b5d-adda-6f0bb219e751",
   "metadata": {},
   "outputs": [
    {
     "name": "stdout",
     "output_type": "stream",
     "text": [
      "Menu:\n",
      "1. Pizza - 6500\n",
      "2. Burger - 3000\n",
      "3. Noodles - 1300\n",
      "4. Exit Menu\n"
     ]
    },
    {
     "name": "stdout",
     "output_type": "stream",
     "text": [
      "Enter the number of the item you want to order:  1\n",
      "Enter the quantity:  4\n"
     ]
    },
    {
     "name": "stdout",
     "output_type": "stream",
     "text": [
      "4 Pizza(s) added to your cart. Total price: 26000\n",
      "Menu:\n",
      "1. Pizza - 6500\n",
      "2. Burger - 3000\n",
      "3. Noodles - 1300\n",
      "4. Exit Menu\n"
     ]
    },
    {
     "name": "stdout",
     "output_type": "stream",
     "text": [
      "Enter the number of the item you want to order:  2\n",
      "Enter the quantity:  5\n"
     ]
    },
    {
     "name": "stdout",
     "output_type": "stream",
     "text": [
      "5 Burger(s) added to your cart. Total price: 15000\n",
      "Menu:\n",
      "1. Pizza - 6500\n",
      "2. Burger - 3000\n",
      "3. Noodles - 1300\n",
      "4. Exit Menu\n"
     ]
    },
    {
     "name": "stdout",
     "output_type": "stream",
     "text": [
      "Enter the number of the item you want to order:  3\n",
      "Enter the quantity:  6\n"
     ]
    },
    {
     "name": "stdout",
     "output_type": "stream",
     "text": [
      "6 Noodles(s) added to your cart. Total price: 7800\n",
      "Menu:\n",
      "1. Pizza - 6500\n",
      "2. Burger - 3000\n",
      "3. Noodles - 1300\n",
      "4. Exit Menu\n"
     ]
    },
    {
     "name": "stdout",
     "output_type": "stream",
     "text": [
      "Enter the number of the item you want to order:  4\n"
     ]
    },
    {
     "name": "stdout",
     "output_type": "stream",
     "text": [
      "Checking out...\n",
      "Your order details:\n",
      "Pizza: Quantity - 4, Total Price - 26000\n",
      "Burger: Quantity - 5, Total Price - 15000\n",
      "Noodles: Quantity - 6, Total Price - 7800\n",
      "Total Order Price: 48800\n",
      "Thank you for ordering!\n"
     ]
    }
   ],
   "source": [
    "cart = place_order()\n",
    "check_out(cart)"
   ]
  },
  {
   "cell_type": "code",
   "execution_count": null,
   "id": "a1fb74d6-a634-490c-a927-7db69239413f",
   "metadata": {},
   "outputs": [],
   "source": [
    "def food_ordering_app():\n",
    "    \"\"\"\n",
    "    Description: The main function that initiates the food ordering application.\n",
    "                 Calls place_order() to build the shopping cart and then calls check_out() to complete the order.\n",
    "    \"\"\"\n",
    "    print(\"Welcome to the Food Ordering App!\")\n",
    "    cart = place_order()\n",
    "    check_out(cart)"
   ]
  },
  {
   "cell_type": "code",
   "execution_count": 75,
   "id": "1471fbb5-44da-476c-915b-c85e5042d7ca",
   "metadata": {},
   "outputs": [
    {
     "name": "stdout",
     "output_type": "stream",
     "text": [
      "Welcome to the Food Ordering App!\n",
      "Menu:\n",
      "1. Pizza - 6500\n",
      "2. Burger - 3000\n",
      "3. Noodles - 1300\n",
      "4. Exit Menu\n"
     ]
    },
    {
     "name": "stdout",
     "output_type": "stream",
     "text": [
      "Enter the number of the item you want to order:  1\n",
      "Enter the quantity:  8\n"
     ]
    },
    {
     "name": "stdout",
     "output_type": "stream",
     "text": [
      "8 Pizza(s) added to your cart. Total price: 52000\n",
      "Menu:\n",
      "1. Pizza - 6500\n",
      "2. Burger - 3000\n",
      "3. Noodles - 1300\n",
      "4. Exit Menu\n"
     ]
    },
    {
     "name": "stdout",
     "output_type": "stream",
     "text": [
      "Enter the number of the item you want to order:  29\n"
     ]
    },
    {
     "name": "stdout",
     "output_type": "stream",
     "text": [
      "Invalid choice. Please enter a number between 1 and 4.\n"
     ]
    },
    {
     "name": "stdout",
     "output_type": "stream",
     "text": [
      "Enter the number of the item you want to order:  3\n",
      "Enter the quantity:  19\n"
     ]
    },
    {
     "name": "stdout",
     "output_type": "stream",
     "text": [
      "19 Noodles(s) added to your cart. Total price: 24700\n",
      "Menu:\n",
      "1. Pizza - 6500\n",
      "2. Burger - 3000\n",
      "3. Noodles - 1300\n",
      "4. Exit Menu\n"
     ]
    },
    {
     "name": "stdout",
     "output_type": "stream",
     "text": [
      "Enter the number of the item you want to order:  4\n"
     ]
    },
    {
     "name": "stdout",
     "output_type": "stream",
     "text": [
      "Checking out...\n",
      "Your order details:\n",
      "Pizza: Quantity - 8, Total Price - 52000\n",
      "Noodles: Quantity - 19, Total Price - 24700\n",
      "Total Order Price: 76700\n",
      "Thank you for ordering!\n"
     ]
    }
   ],
   "source": [
    "food_ordering_app()"
   ]
  },
  {
   "cell_type": "code",
   "execution_count": null,
   "id": "88125dd4-a4c1-439d-82ee-a04985c7de9a",
   "metadata": {},
   "outputs": [],
   "source": []
  }
 ],
 "metadata": {
  "kernelspec": {
   "display_name": "Python [conda env:base] *",
   "language": "python",
   "name": "conda-base-py"
  },
  "language_info": {
   "codemirror_mode": {
    "name": "ipython",
    "version": 3
   },
   "file_extension": ".py",
   "mimetype": "text/x-python",
   "name": "python",
   "nbconvert_exporter": "python",
   "pygments_lexer": "ipython3",
   "version": "3.11.7"
  }
 },
 "nbformat": 4,
 "nbformat_minor": 5
}
